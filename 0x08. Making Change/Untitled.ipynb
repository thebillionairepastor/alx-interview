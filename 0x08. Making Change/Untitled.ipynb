{
 "cells": [
  {
   "cell_type": "code",
   "execution_count": 45,
   "metadata": {
    "jupyter": {
     "source_hidden": true
    }
   },
   "outputs": [],
   "source": [
    "import sys\n",
    "\n",
    "\n",
    "\n",
    "def makeChange(coins, total):\n",
    "    \"\"\"\n",
    "    ********************************************\n",
    "    ****determine the fewest number of coins****\n",
    "    *******needed to meet a given amount********\n",
    "    ********************************************\n",
    "    @coins: is a list of the values of the coins\n",
    "            in the possession\n",
    "    @total: given amount\n",
    "    Return:\n",
    "            fewest number of coins needed to meet total\n",
    "            *** If total is 0 or less, return 0\n",
    "            *** If total cannot be met by any number\n",
    "                of coins you have, return -1\n",
    "    \"\"\"\n",
    "    if total <= 0:\n",
    "        return 0\n",
    "\n",
    "    res = 0\n",
    "    for i in range(len(coins)):\n",
    "        if (coins[i] <= total):\n",
    "            sub_res = makeChange(coins, total-coins[i])\n",
    " \n",
    "            # Check for INT_MAX to avoid overflow and see if\n",
    "            # result can minimized\n",
    "            if (sub_res != sys.maxsize and sub_res + 1 < res):\n",
    "                res = sub_res + 1\n",
    "\n",
    "    return res"
   ]
  },
  {
   "cell_type": "code",
   "execution_count": 12,
   "metadata": {},
   "outputs": [],
   "source": [
    "import sys\n",
    "\n",
    "\n",
    "\n",
    "def makeChange(coins, total):\n",
    "    \"\"\"\n",
    "    ********************************************\n",
    "    ****determine the fewest number of coins****\n",
    "    *******needed to meet a given amount********\n",
    "    ********************************************\n",
    "    @coins: is a list of the values of the coins\n",
    "            in the possession\n",
    "    @total: given amount\n",
    "    Return:\n",
    "            fewest number of coins needed to meet total\n",
    "            *** If total is 0 or less, return 0\n",
    "            *** If total cannot be met by any number\n",
    "                of coins you have, return -1\n",
    "    \"\"\"\n",
    "    if total <= 0:\n",
    "        return 0\n",
    "\n",
    "    res = []\n",
    "    sub = [0]\n",
    "    #for i in range(len(coins)):\n",
    "    i = 0\n",
    "    while sum(sub) < total:\n",
    "        sub.append((coins[i] + coins[i-1]))\n",
    "        if (total - sum(sub)) >= 0:\n",
    "            res.append(total - sum(sub) + 1)\n",
    "        i += 1\n",
    "    print(res)\n",
    "    try:\n",
    "        return min(res)\n",
    "    except:\n",
    "        return -1"
   ]
  },
  {
   "cell_type": "code",
   "execution_count": 13,
   "metadata": {
    "jupyter": {
     "source_hidden": true
    }
   },
   "outputs": [],
   "source": [
    "#!/usr/bin/python3\n",
    "\"\"\"\n",
    "Change comes from within\n",
    "\"\"\"\n",
    "\n",
    "\n",
    "def minCoins(coins, m, V): \n",
    "    \"\"\" recursive \"\"\"\n",
    "    # base case \n",
    "    if (V == 0): \n",
    "        return 0\n",
    "\n",
    "    # Initialize result \n",
    "    res = sys.maxsize \n",
    "      \n",
    "    # Try every coin that has smaller value than V \n",
    "    for i in range(0, m): \n",
    "        if (coins[i] <= V): \n",
    "            sub_res = minCoins(coins, m, V-coins[i]) \n",
    "\n",
    "            # Check for INT_MAX to avoid overflow and see if \n",
    "            # result can minimized \n",
    "            if (sub_res != sys.maxsize and sub_res + 1 < res): \n",
    "                res = sub_res + 1\n",
    "\n",
    "    return res \n",
    "\n",
    "def makeChange(coins, total):\n",
    "    \"\"\"\n",
    "    ********************************************\n",
    "    ****determine the fewest number of coins****\n",
    "    *******needed to meet a given amount********\n",
    "    ********************************************\n",
    "    @coins: is a list of the values of the coins\n",
    "            in the possession\n",
    "    @total: given amount\n",
    "    Return:\n",
    "            fewest number of coins needed to meet total\n",
    "            *** If total is 0 or less, return 0\n",
    "            *** If total cannot be met by any number\n",
    "                of coins you have, return -1\n",
    "    \"\"\"\n",
    "    m = len(coins) \n",
    "\n",
    "    return minCoins(coins, m, total)\n"
   ]
  },
  {
   "cell_type": "code",
   "execution_count": 52,
   "metadata": {
    "jupyter": {
     "source_hidden": true
    }
   },
   "outputs": [],
   "source": [
    "\n",
    "def makeChange(coins, total):\n",
    "    \"\"\"\n",
    "    ********************************************\n",
    "    ****determine the fewest number of coins****\n",
    "    *******needed to meet a given amount********\n",
    "    ********************************************\n",
    "    @coins: is a list of the values of the coins\n",
    "            in the possession\n",
    "    @total: given amount\n",
    "    Return:\n",
    "            fewest number of coins needed to meet total\n",
    "            *** If total is 0 or less, return 0\n",
    "            *** If total cannot be met by any number\n",
    "                of coins you have, return -1\n",
    "    \"\"\"\n",
    "    if total <= 0:\n",
    "        return 0\n",
    "\n",
    "    res = []\n",
    "    sub = [0]\n",
    "    for i in range(len(coins)):\n",
    "        if coins[i-1] + coins[i] + sub[i] > total:\n",
    "                return -1\n",
    "        else:\n",
    "            if (coins[i-1] + coins[i] + sub[i] < total):\n",
    "                sub.append(coins[i-1] + coins[i])\n",
    "                res.append(total - (coins[i-1] + coins[i]) - sub[i])\n",
    "            else:\n",
    "                sub.append((coins[i] + coins[i-1]))\n",
    "                res.append(total - sum(sub) + 1)\n",
    "    return min(res)"
   ]
  },
  {
   "cell_type": "code",
   "execution_count": 27,
   "metadata": {},
   "outputs": [
    {
     "name": "stdout",
     "output_type": "stream",
     "text": [
      "1\n",
      "10\n",
      "2\n",
      "3\n",
      "-1\n",
      "2\n"
     ]
    },
    {
     "ename": "IndexError",
     "evalue": "list index out of range",
     "output_type": "error",
     "traceback": [
      "\u001b[0;31m---------------------------------------------------------------------------\u001b[0m",
      "\u001b[0;31mIndexError\u001b[0m                                Traceback (most recent call last)",
      "\u001b[0;32m<ipython-input-27-4ce2056dfea1>\u001b[0m in \u001b[0;36m<module>\u001b[0;34m\u001b[0m\n\u001b[1;32m     41\u001b[0m \u001b[0mprint\u001b[0m\u001b[0;34m(\u001b[0m\u001b[0mmakeChange\u001b[0m\u001b[0;34m(\u001b[0m\u001b[0;34m[\u001b[0m\u001b[0;36m3\u001b[0m\u001b[0;34m,\u001b[0m \u001b[0;36m6\u001b[0m\u001b[0;34m,\u001b[0m \u001b[0;36m9\u001b[0m\u001b[0;34m]\u001b[0m\u001b[0;34m,\u001b[0m \u001b[0;36m1278652\u001b[0m\u001b[0;34m)\u001b[0m\u001b[0;34m)\u001b[0m\u001b[0;34m\u001b[0m\u001b[0;34m\u001b[0m\u001b[0m\n\u001b[1;32m     42\u001b[0m \u001b[0mprint\u001b[0m\u001b[0;34m(\u001b[0m\u001b[0mmakeChange\u001b[0m\u001b[0;34m(\u001b[0m\u001b[0;34m[\u001b[0m\u001b[0;36m1\u001b[0m\u001b[0;34m,\u001b[0m \u001b[0;36m2\u001b[0m\u001b[0;34m,\u001b[0m \u001b[0;36m10\u001b[0m\u001b[0;34m]\u001b[0m\u001b[0;34m,\u001b[0m \u001b[0;36m11\u001b[0m\u001b[0;34m)\u001b[0m\u001b[0;34m)\u001b[0m\u001b[0;34m\u001b[0m\u001b[0;34m\u001b[0m\u001b[0m\n\u001b[0;32m---> 43\u001b[0;31m \u001b[0mprint\u001b[0m\u001b[0;34m(\u001b[0m\u001b[0mmakeChange\u001b[0m\u001b[0;34m(\u001b[0m\u001b[0;34m[\u001b[0m\u001b[0;36m3\u001b[0m\u001b[0;34m,\u001b[0m \u001b[0;36m7\u001b[0m\u001b[0;34m,\u001b[0m \u001b[0;36m11\u001b[0m\u001b[0;34m,\u001b[0m \u001b[0;36m4\u001b[0m\u001b[0;34m,\u001b[0m \u001b[0;36m16\u001b[0m\u001b[0;34m,\u001b[0m \u001b[0;36m21\u001b[0m\u001b[0;34m]\u001b[0m\u001b[0;34m,\u001b[0m \u001b[0;36m2\u001b[0m\u001b[0;34m)\u001b[0m\u001b[0;34m)\u001b[0m\u001b[0;34m\u001b[0m\u001b[0;34m\u001b[0m\u001b[0m\n\u001b[0m",
      "\u001b[0;32m<ipython-input-27-4ce2056dfea1>\u001b[0m in \u001b[0;36mmakeChange\u001b[0;34m(coins, total)\u001b[0m\n\u001b[1;32m     27\u001b[0m             \u001b[0;32mif\u001b[0m \u001b[0;34m(\u001b[0m\u001b[0mcoins\u001b[0m\u001b[0;34m[\u001b[0m\u001b[0mj\u001b[0m\u001b[0;34m]\u001b[0m \u001b[0;34m<=\u001b[0m \u001b[0;36m0\u001b[0m\u001b[0;34m)\u001b[0m\u001b[0;34m:\u001b[0m\u001b[0;34m\u001b[0m\u001b[0;34m\u001b[0m\u001b[0m\n\u001b[1;32m     28\u001b[0m                 \u001b[0;32mreturn\u001b[0m \u001b[0;34m-\u001b[0m\u001b[0;36m1\u001b[0m\u001b[0;34m\u001b[0m\u001b[0;34m\u001b[0m\u001b[0m\n\u001b[0;32m---> 29\u001b[0;31m             \u001b[0;32mif\u001b[0m \u001b[0mMin\u001b[0m\u001b[0;34m[\u001b[0m\u001b[0mi\u001b[0m \u001b[0;34m-\u001b[0m \u001b[0mcoins\u001b[0m\u001b[0;34m[\u001b[0m\u001b[0mj\u001b[0m\u001b[0;34m]\u001b[0m\u001b[0;34m]\u001b[0m \u001b[0;34m+\u001b[0m \u001b[0;36m1\u001b[0m \u001b[0;34m<\u001b[0m \u001b[0mMin\u001b[0m\u001b[0;34m[\u001b[0m\u001b[0mi\u001b[0m\u001b[0;34m]\u001b[0m\u001b[0;34m:\u001b[0m\u001b[0;34m\u001b[0m\u001b[0;34m\u001b[0m\u001b[0m\n\u001b[0m\u001b[1;32m     30\u001b[0m                 \u001b[0mMin\u001b[0m\u001b[0;34m[\u001b[0m\u001b[0mi\u001b[0m\u001b[0;34m]\u001b[0m \u001b[0;34m=\u001b[0m \u001b[0mmin\u001b[0m\u001b[0;34m(\u001b[0m\u001b[0mMin\u001b[0m\u001b[0;34m[\u001b[0m\u001b[0mi\u001b[0m \u001b[0;34m-\u001b[0m \u001b[0mcoins\u001b[0m\u001b[0;34m[\u001b[0m\u001b[0mj\u001b[0m\u001b[0;34m]\u001b[0m\u001b[0;34m]\u001b[0m \u001b[0;34m+\u001b[0m \u001b[0;36m1\u001b[0m\u001b[0;34m,\u001b[0m \u001b[0mMin\u001b[0m\u001b[0;34m[\u001b[0m\u001b[0mi\u001b[0m\u001b[0;34m]\u001b[0m\u001b[0;34m)\u001b[0m\u001b[0;34m\u001b[0m\u001b[0;34m\u001b[0m\u001b[0m\n\u001b[1;32m     31\u001b[0m \u001b[0;34m\u001b[0m\u001b[0m\n",
      "\u001b[0;31mIndexError\u001b[0m: list index out of range"
     ]
    }
   ],
   "source": [
    "import sys\n",
    "\n",
    "def makeChange(coins, total):\n",
    "    \"\"\"\n",
    "    ********************************************\n",
    "    ****determine the fewest number of coins****\n",
    "    *******needed to meet a given amount********\n",
    "    ********************************************\n",
    "    @coins: is a list of the values of the coins\n",
    "            in the possession\n",
    "    @total: given amount\n",
    "    Return:\n",
    "            fewest number of coins needed to meet total\n",
    "            *** If total is 0 or less, return 0\n",
    "            *** If total cannot be met by any number\n",
    "                of coins you have, return -1\n",
    "    \"\"\"\n",
    "\n",
    "    if (type(total) is not int or type(coins) is not list):\n",
    "        return -1\n",
    "    if total <= 0:\n",
    "        return 0\n",
    "    Min = [float('inf') for i in range(total+1)]\n",
    "    Min[0] = 0\n",
    "    for i in range(1, total+1):\n",
    "        for j in range(len(coins)):\n",
    "            if (coins[j] <= 0):\n",
    "                return -1\n",
    "            if Min[i - coins[j]] + 1 < Min[i]:\n",
    "                Min[i] = min(Min[i - coins[j]] + 1, Min[i])\n",
    "\n",
    "    if Min[total] != float('inf'):\n",
    "        return Min[total]\n",
    "    else:\n",
    "        return -1\n",
    "\n",
    "print(makeChange([1], 1))\n",
    "print(makeChange([25, 3], 52))\n",
    "print(makeChange([1], 2))\n",
    "print(makeChange([1,2,5], 11))\n",
    "print(makeChange([3, 6, 9], 1278652))\n",
    "print(makeChange([1, 2, 10], 11))\n",
    "print(makeChange([3, 7, 11, 4, 16, 21], 2))"
   ]
  },
  {
   "cell_type": "code",
   "execution_count": 16,
   "metadata": {},
   "outputs": [
    {
     "name": "stdout",
     "output_type": "stream",
     "text": [
      "7\n",
      "-1\n",
      "2\n",
      "3\n",
      "10\n",
      "1\n"
     ]
    }
   ],
   "source": [
    "print(makeChange([1, 2, 25], 37)) # => 7\n",
    "\n",
    "print(makeChange([1256, 54, 48, 16, 102], 1453)) # => -1\n",
    "\n",
    "print(makeChange([1], 2)) # => 2\n",
    "\n",
    "print(makeChange([1,2,5], 11)) # => 3\n",
    "\n",
    "print(makeChange([25, 3], 52)) # => 10\n",
    "\n",
    "print(makeChange([1], 1)) # => 1"
   ]
  },
  {
   "cell_type": "code",
   "execution_count": 176,
   "metadata": {
    "jupyter": {
     "source_hidden": true
    }
   },
   "outputs": [],
   "source": [
    "def makeChange(coins, total):\n",
    "    if total <= 0:\n",
    "        return 0\n",
    "    i = len(coins) - 1\n",
    "    coins.sort()\n",
    "    fewest = []\n",
    "    while i > -1:\n",
    "        fewest.append(coins[i])\n",
    "        if sum(fewest) == total:\n",
    "            return len(fewest)\n",
    "        if sum(fewest) < total:\n",
    "            i += 1\n",
    "        else:\n",
    "            fewest.pop()\n",
    "        i -= 1\n",
    "    return -1"
   ]
  },
  {
   "cell_type": "code",
   "execution_count": 270,
   "metadata": {},
   "outputs": [
    {
     "data": {
      "text/plain": [
       "4"
      ]
     },
     "execution_count": 270,
     "metadata": {},
     "output_type": "execute_result"
    }
   ],
   "source": [
    "11 - (5+2)"
   ]
  },
  {
   "cell_type": "code",
   "execution_count": 276,
   "metadata": {},
   "outputs": [
    {
     "data": {
      "text/plain": [
       "37"
      ]
     },
     "execution_count": 276,
     "metadata": {},
     "output_type": "execute_result"
    }
   ],
   "source": [
    "sum([1, 2, 25]) + 9"
   ]
  },
  {
   "cell_type": "code",
   "execution_count": 7,
   "metadata": {},
   "outputs": [
    {
     "ename": "SyntaxError",
     "evalue": "invalid syntax (<ipython-input-7-66ba0cb47864>, line 1)",
     "output_type": "error",
     "traceback": [
      "\u001b[0;36m  File \u001b[0;32m\"<ipython-input-7-66ba0cb47864>\"\u001b[0;36m, line \u001b[0;32m1\u001b[0m\n\u001b[0;31m    49,67 Go\u001b[0m\n\u001b[0m           ^\u001b[0m\n\u001b[0;31mSyntaxError\u001b[0m\u001b[0;31m:\u001b[0m invalid syntax\n"
     ]
    }
   ],
   "source": [
    "49,67 Go"
   ]
  },
  {
   "cell_type": "code",
   "execution_count": 17,
   "metadata": {},
   "outputs": [
    {
     "data": {
      "text/plain": [
       "156"
      ]
     },
     "execution_count": 17,
     "metadata": {},
     "output_type": "execute_result"
    }
   ],
   "source": [
    "670 - 514"
   ]
  },
  {
   "cell_type": "code",
   "execution_count": 18,
   "metadata": {},
   "outputs": [
    {
     "data": {
      "text/plain": [
       "95"
      ]
     },
     "execution_count": 18,
     "metadata": {},
     "output_type": "execute_result"
    }
   ],
   "source": []
  },
  {
   "cell_type": "code",
   "execution_count": null,
   "metadata": {},
   "outputs": [],
   "source": []
  }
 ],
 "metadata": {
  "kernelspec": {
   "display_name": "Python 3",
   "language": "python",
   "name": "python3"
  },
  "language_info": {
   "codemirror_mode": {
    "name": "ipython",
    "version": 3
   },
   "file_extension": ".py",
   "mimetype": "text/x-python",
   "name": "python",
   "nbconvert_exporter": "python",
   "pygments_lexer": "ipython3",
   "version": "3.6.13"
  }
 },
 "nbformat": 4,
 "nbformat_minor": 4
}
